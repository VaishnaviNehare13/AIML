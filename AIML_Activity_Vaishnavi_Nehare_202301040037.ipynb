{
  "nbformat": 4,
  "nbformat_minor": 0,
  "metadata": {
    "colab": {
      "provenance": [],
      "authorship_tag": "ABX9TyMrxlTjCiBU7IoPxG+HdmrL",
      "include_colab_link": true
    },
    "kernelspec": {
      "name": "python3",
      "display_name": "Python 3"
    },
    "language_info": {
      "name": "python"
    }
  },
  "cells": [
    {
      "cell_type": "markdown",
      "metadata": {
        "id": "view-in-github",
        "colab_type": "text"
      },
      "source": [
        "<a href=\"https://colab.research.google.com/github/VaishnaviNehare13/AIML/blob/main/AIML_Activity_Vaishnavi_Nehare_202301040037.ipynb\" target=\"_parent\"><img src=\"https://colab.research.google.com/assets/colab-badge.svg\" alt=\"Open In Colab\"/></a>"
      ]
    },
    {
      "cell_type": "markdown",
      "source": [
        "# Problem statement : Discuss and Implement various strategies of constraint satisfaction problem for N"
      ],
      "metadata": {
        "id": "MagPtZrpwAk6"
      }
    },
    {
      "cell_type": "code",
      "execution_count": null,
      "metadata": {
        "id": "kab0aFf1v5N6"
      },
      "outputs": [],
      "source": [
        "# Problem statement : Discuss and Implement various strategies of constraint satisfaction problem for N\n",
        "\n",
        "import time, random\n",
        "\n",
        "# --- N-Queens CSP Class ---\n",
        "class NQueensCSP:\n",
        "    def __init__(self, N):\n",
        "        self.N = N\n",
        "        self.vars = list(range(N))  # columns (each queen placed in a column)\n",
        "        self.domains = {v: list(range(N)) for v in self.vars}  # rows available for each column\n",
        "\n",
        "    # Check if two queens conflict\n",
        "    def conflict(self, var1, val1, var2, val2):\n",
        "        if val1 == val2: return True  # same row\n",
        "        if abs(val1 - val2) == abs(var1 - var2): return True  # same diagonal\n",
        "        return False\n",
        "\n",
        "# --- Consistency Check ---\n",
        "def is_consistent(assignment, var, value, csp):\n",
        "    # Check if placing queen at (var, value) is safe\n",
        "    for v, val in assignment.items():\n",
        "        if csp.conflict(v, val, var, value):\n",
        "            return False\n",
        "    return True\n",
        "\n",
        "# --- Forward Checking ---\n",
        "def forward_check(csp, var, value, domains, assignment):\n",
        "    # Remove invalid values from future domains\n",
        "    pruned = []\n",
        "    for v in csp.vars:\n",
        "        if v not in assignment and v != var:\n",
        "            to_remove = [val for val in domains[v] if csp.conflict(var, value, v, val)]\n",
        "            if to_remove:\n",
        "                for r in to_remove: domains[v].remove(r)  # prune values\n",
        "                pruned.append((v, to_remove))\n",
        "            if not domains[v]:  # domain empty -> failure\n",
        "                return False, pruned\n",
        "    return True, pruned\n",
        "\n",
        "# --- Backtracking Search ---\n",
        "def backtrack(assignment, csp, domains, use_fc=False):\n",
        "    # If all queens placed -> solution found\n",
        "    if len(assignment) == len(csp.vars):\n",
        "        return assignment\n",
        "\n",
        "    # Select first unassigned column\n",
        "    var = [v for v in csp.vars if v not in assignment][0]\n",
        "\n",
        "    # Try all possible rows for this column\n",
        "    for value in domains[var]:\n",
        "        if is_consistent(assignment, var, value, csp):\n",
        "            assignment[var] = value\n",
        "            pruned = []\n",
        "\n",
        "            # Apply forward checking if enabled\n",
        "            if use_fc:\n",
        "                ok, pruned = forward_check(csp, var, value, domains, assignment)\n",
        "                if not ok:\n",
        "                    # Undo pruning and try next value\n",
        "                    for v, vals in pruned: domains[v].extend(vals)\n",
        "                    del assignment[var]\n",
        "                    continue\n",
        "\n",
        "            # Recurse for next queen\n",
        "            result = backtrack(assignment, csp, domains, use_fc)\n",
        "            if result: return result\n",
        "\n",
        "            # Undo changes if failed\n",
        "            for v, vals in pruned: domains[v].extend(vals)\n",
        "            del assignment[var]\n",
        "    return None\n",
        "\n",
        "# Solve using Backtracking (with/without Forward Checking)\n",
        "def solve_backtracking(N, use_fc=False):\n",
        "    csp = NQueensCSP(N)\n",
        "    domains = {v: list(csp.domains[v]) for v in csp.vars}\n",
        "    start = time.time()\n",
        "    sol = backtrack({}, csp, domains, use_fc)\n",
        "    return sol, time.time() - start\n",
        "\n",
        "# --- Min-Conflicts Local Search ---\n",
        "def min_conflicts(N, max_steps=50000):\n",
        "    # Start with random queen positions\n",
        "    cols = list(range(N))\n",
        "    rows = [random.randrange(N) for _ in cols]\n",
        "\n",
        "    # Count conflicts for a queen\n",
        "    def conflicts(col, row):\n",
        "        return sum(r == row or abs(r - row) == abs(c - col)\n",
        "                   for c, r in enumerate(rows) if c != col)\n",
        "\n",
        "    # Try to reduce conflicts iteratively\n",
        "    for step in range(max_steps):\n",
        "        conflicted = [c for c in cols if conflicts(c, rows[c]) > 0]\n",
        "        if not conflicted: return rows, step  # solution found\n",
        "        col = random.choice(conflicted)\n",
        "        min_conf = min(conflicts(col, r) for r in range(N))\n",
        "        candidates = [r for r in range(N) if conflicts(col, r) == min_conf]\n",
        "        rows[col] = random.choice(candidates)\n",
        "    return None, max_steps\n",
        "\n",
        "# --- Demo Run ---\n",
        "def run_demo(N=8):\n",
        "    print(f\"=== N-Queens  (N={N}) ===\")\n",
        "\n",
        "    # 1) Simple Backtracking\n",
        "    sol, t = solve_backtracking(N)\n",
        "    print(f\"\\n1) Backtracking: {sol}, Time={t:.4f}s\")\n",
        "\n",
        "    # 2) Backtracking with Forward Checking\n",
        "    sol, t = solve_backtracking(N, use_fc=True)\n",
        "    print(f\"\\n2) Backtracking + Forward Checking: {sol}, Time={t:.4f}s\")\n",
        "\n",
        "    # 3) Min-Conflicts Local Search\n",
        "    sol, steps = min_conflicts(N)\n",
        "    print(f\"\\n3) Min-Conflicts (Local Search): {sol}, Steps={steps}\")\n",
        "\n",
        "# Run demo\n",
        "run_demo(8)\n"
      ]
    },
    {
      "cell_type": "markdown",
      "source": [
        "The N-Queens problem is a well-known Constraint Satisfaction Problem (CSP) in Artificial Intelligence, where the task is to place\n",
        "𝑁\n",
        "N queens on an\n",
        "𝑁\n",
        "×\n",
        "𝑁\n",
        "N×N chessboard such that no two queens attack each other. This means no two queens can share the same row, column, or diagonal. The challenge is to efficiently explore the large search space of possible arrangements and find one or more valid solutions.\n",
        "\n",
        "In the given code, three different CSP strategies are implemented to solve the N-Queens problem. The first approach uses backtracking, where queens are placed column by column, and the algorithm backtracks whenever it encounters a conflict. The second approach enhances this by applying forward checking, which prunes invalid choices from future domains immediately after placing a queen, thereby avoiding dead ends early. The third approach applies a Min-Conflicts heuristic local search, which starts with a random configuration of queens and iteratively moves conflicted queens to positions with fewer conflicts until a solution is reached or the step limit is exceeded.\n",
        "\n",
        "Together, these methods demonstrate different problem-solving strategies in CSP: backtracking provides completeness but can be slow, forward checking improves efficiency by reducing unnecessary exploration, and min-conflicts offers a fast heuristic-based solution well-suited for larger boards. This comparative implementation highlights the trade-offs between systematic search and heuristic local search in solving constraint satisfaction problems."
      ],
      "metadata": {
        "id": "kQiE8wHUwIrz"
      }
    }
  ]
}